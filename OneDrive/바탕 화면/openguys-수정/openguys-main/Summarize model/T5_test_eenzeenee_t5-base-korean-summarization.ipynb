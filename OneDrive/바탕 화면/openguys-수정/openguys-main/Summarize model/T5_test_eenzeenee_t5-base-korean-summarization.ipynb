{
 "cells": [
  {
   "cell_type": "code",
   "execution_count": null,
   "metadata": {
    "colab": {
     "base_uri": "https://localhost:8080/"
    },
    "executionInfo": {
     "elapsed": 27048,
     "status": "ok",
     "timestamp": 1700456044617,
     "user": {
      "displayName": "윤재현 (Acahti)",
      "userId": "14788659600835622523"
     },
     "user_tz": -540
    },
    "id": "SbFW7aieBKWI",
    "outputId": "bf5862df-e220-4d57-a57a-8f6ed10d315a"
   },
   "outputs": [],
   "source": [
    "!pip install transformers\n",
    "!pip install sentence_transformers"
   ]
  },
  {
   "cell_type": "code",
   "execution_count": null,
   "metadata": {
    "colab": {
     "base_uri": "https://localhost:8080/",
     "height": 177,
     "referenced_widgets": [
      "cb04535ddcb84902950bdf9f48d88f29",
      "9cd546c6b1ff4038b2c689285827fa22",
      "ef597623a03244e4b1486d559ac381bb",
      "7f25bf8054274b3c9076dc44015c2eee",
      "c6ff452334ed4bcfb103a3b40ae6e736",
      "59a151bba6f141a5930e8b3fc511ed1b",
      "fc352068ec154aaa98228ffee8b4cc18",
      "094193ef34fb49569c20efc25108a9c8",
      "34a67b1359364d368eac2f92ca24b47b",
      "439cc0262e5e48e084fb616aee7ea5a6",
      "3d2c745d11b942389664a1c00f70a899",
      "b7439c6186dd4a61805b96863ff5af0a",
      "b7d676d5ca7c4b2e91b7bdb2bcb7515c",
      "3d0a74388ac34a239ac73d1113e386ed",
      "2bf9f3e29c884b3180e86b7855a48984",
      "53a61512e17e43c0b8507140c0df1754",
      "28d9f579bd6e4d56a9691853cf0e9da2",
      "19b591cb43ee471b83c94d5e82097daf",
      "4474704f46934a9eb600445ca8ba4b2c",
      "79e853ae77864c3d86052f4eeec154df",
      "4fdc49c07a8747fca08ce7524cbea540",
      "032dd57b976642e5915dec268cc0c0cd",
      "ef2812a339af4617a5c51de278bccd7b",
      "ead8a751cb1f4812a561a4832c5cd615",
      "85124f7d81c947f4bc272a3be8cd0dab",
      "9375759b765344118f6f321546b9b7fe",
      "207ae89b4846489da4a2ddb2fd1011ef",
      "6b5cc31bae97490ca9ab43f85b6cb2ff",
      "a2140b3c098643fa83e0908938480dd8",
      "9170a92ee8724b729d9f14abc20a3275",
      "0d77b025945b49c2b2c9a90451c20ca8",
      "d7bc751077794da7b566e13d71353877",
      "45bb257b04b14ab98c86198adf98a2a7",
      "67a54348d7e74d16ba4f54414ff32287",
      "f0cd53d8d7ce4b45a422c5410218c72a",
      "69a87e13d07d49cbb4f4d926d75672f8",
      "6fae500e182944d2b38cd89485e3d45b",
      "5b6bc7e8870a4219ba343301d259668d",
      "8abf20fd2238412bbbed07cc1a82f58d",
      "97f863f74702479c9f3bbad9fa5b694c",
      "92239ebd84d3478b90c37e7fcd793b68",
      "5a43998e0422476bb6a5761a8ab0c140",
      "c929dc29a63042e787a25d477d55c809",
      "51be91f239924f57be9448e53a0af64b",
      "f8825da0a43a4c5ea35f85d89c608290",
      "556ae4b057924016bc02c357a38cd38d",
      "10e32eb1170e4f6881db0ffd2a4975fb",
      "0157f749fbde4849832e4216a9f5249a",
      "6ba980b580a143feadd67441d79fab3f",
      "7c4401d9c52244afb5007305a0b300d3",
      "4d965e4e4048489498aef1aade8404e9",
      "e95304e9253d4f2d99fdc8dabcb12f80",
      "f4155fc43d50458b92f497a71da472a1",
      "121107ee9c8c48fd8045f2ffb4d14c28",
      "ec84269e4cd3499e9322e9b3b94a056a"
     ]
    },
    "executionInfo": {
     "elapsed": 41006,
     "status": "ok",
     "timestamp": 1700456085613,
     "user": {
      "displayName": "윤재현 (Acahti)",
      "userId": "14788659600835622523"
     },
     "user_tz": -540
    },
    "id": "S-tSP3_YBUbS",
    "outputId": "f7237d16-66d0-4ae8-a089-489a5f28fa10"
   },
   "outputs": [],
   "source": [
    "from transformers import T5ForConditionalGeneration,AutoTokenizer\n",
    "path = \"eenzeenee/t5-base-korean-summarization\"\n",
    "model = T5ForConditionalGeneration.from_pretrained(path)\n",
    "tokenizer = AutoTokenizer.from_pretrained(path)"
   ]
  },
  {
   "cell_type": "code",
   "execution_count": null,
   "metadata": {
    "colab": {
     "base_uri": "https://localhost:8080/",
     "height": 54
    },
    "executionInfo": {
     "elapsed": 6979,
     "status": "ok",
     "timestamp": 1700456092550,
     "user": {
      "displayName": "윤재현 (Acahti)",
      "userId": "14788659600835622523"
     },
     "user_tz": -540
    },
    "id": "F8Pz978xBl8I",
    "outputId": "b3d123ad-8c9d-4bda-c736-c823ad963292"
   },
   "outputs": [],
   "source": [
    "#여기에 원하는 문장을 입력하시길 바랍니다.\n",
    "text= \"\"\" (서울=뉴스1) 이비슬 기자 = 윤상현 국민의힘 의원은 18일 이철규 사무총장의 '승선불가' 발언과 관련해 \"무엇이 위기인지 본질을 잘 모르고 있다는 게 진짜 위기\"라고 말했다.\n",
    "\n",
    "윤 의원은 이날 SBS 라디오 '김태현의 정치쇼' 인터뷰에서 \"국민의힘이 더불어민주당을 빼놓고 제3정당이 나오면 지지율이 비슷하다. 이것이 위기 아니냐. 그런데 이런 것에 관해서 (이야기)하면 이것을 이상하게 받아들이는데, 그래서 위기가 위기라는 것\"이라고 말했다.\n",
    "\n",
    "윤 의원은 \"수도권 싸움은 영남권 싸움과 다르다. 수도권 거의 모든 지역이 1000표, 1500표 싸움 아니냐\"며 \"제3정당이 나왔을 때 국민의힘 표를 뺏어간다. 승부를 가르는 결정적인 요인이 될 수 있기 때문에 3지대에 있는 사람들도 포용하고 전략을 갖추는 것에 대해 말씀드린 것\"이라고 말했다.\n",
    "\n",
    "앞서 이 사무총장은 지난 16일 비공개 의원총회에서 \"배를 침몰시키려는 승객은 함께하지 못한다\"고 발언했다. 이를 두고 내년 총선 수도권 위기론과 당 지도부 책임을 언급하며 공개적으로 비판 입장을 밝혀온 윤 의원이 발언의 표적이었다는 관측이 나왔다.\n",
    "\n",
    "윤 의원은 이 사무총장의 발언이 자신을 겨냥했다는 관측과 관련해 \"당에 대한 충정으로 말씀드린 것\"이라며 \"당이라는 배를 좌초시키려는 의도는 없었다\"고 말했다.\n",
    "\n",
    "윤 의원은 \"당이라는 배가 좌초되거나 어려워지면 당 지도부 의원이 아니라 수도권에 있는 의원이 가장 먼저 죽는다\"며 \"누구를 기분 나쁘게 할 마음으로 (이야기)한 것이 아니라 당에 대한 진정성으로 이야기한 것\"이라고 했다.\"\"\"\n",
    "\n",
    "prefix = \"summarize: \" + text\n",
    "\n",
    "token = tokenizer(prefix ,return_tensors=\"pt\")\n",
    "output = model.generate(input_ids=token[\"input_ids\"],attention_mask = token[\"attention_mask\"], max_length=500)\n",
    "text = tokenizer.decode(output[0])[5:-4]\n",
    "text"
   ]
  },
  {
   "cell_type": "markdown",
   "metadata": {
    "id": "siyobWhZFZLP"
   },
   "source": [
    "실행결과: 윤 의원은 이 사무총장의 승선불가 발언과 관련해 무엇이 위기인지 본질을 잘 모르고 있다는 게 진짜 위기라고 말하며 수도권 싸움은 영남권 싸움과 다르다고 말했다."
   ]
  }
 ],
 "metadata": {
  "colab": {
   "authorship_tag": "ABX9TyPlOFbILIWioblJqixQFbqo",
   "provenance": []
  },
  "kernelspec": {
   "display_name": "Python 3",
   "name": "python3"
  },
  "language_info": {
   "name": "python"
  }
 },
 "nbformat": 4,
 "nbformat_minor": 0
}
