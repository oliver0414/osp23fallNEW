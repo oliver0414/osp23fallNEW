{
 "cells": [
  {
   "cell_type": "code",
   "execution_count": null,
   "metadata": {
    "colab": {
     "base_uri": "https://localhost:8080/"
    },
    "executionInfo": {
     "elapsed": 28186,
     "status": "ok",
     "timestamp": 1700455211308,
     "user": {
      "displayName": "윤재현 (Acahti)",
      "userId": "14788659600835622523"
     },
     "user_tz": -540
    },
    "id": "SbFW7aieBKWI",
    "outputId": "b503bd92-c83d-4ab1-80c5-6d26e830b134"
   },
   "outputs": [],
   "source": [
    "!pip install transformers\n",
    "!pip install sentence_transformers"
   ]
  },
  {
   "cell_type": "code",
   "execution_count": null,
   "metadata": {
    "colab": {
     "base_uri": "https://localhost:8080/",
     "height": 177,
     "referenced_widgets": [
      "61c58ad0c4da4c78b3edad59f510554f",
      "20d8c903605a44a881a6da23d31b1a29",
      "0d8f89936f554c919612f16485ffe262",
      "def4d514f2f54d70bce9b5bcaf5b0b75",
      "39708f4bc52741019bc9a9f49dd1551d",
      "02556f8acea043758238dac2d3832ea9",
      "75576ada06db4b79bfac963bf83bcf3a",
      "892954f286a645f1a1e1ee617864c33b",
      "097f7506e42f492991b76a877cbdb4e5",
      "cc65368e2e85481890c9b825453fc354",
      "a7abb3f8ad02440ea18a316691876746",
      "f33a7a94f56744f8a2c5b8628a641b22",
      "2d3958c64f634e31adb92f94f53adc08",
      "72334d498ed2429abea49825c08b1c05",
      "24dee911585c4cb1af9e093828e439b0",
      "7432100d1cfa4758863f004926e7a168",
      "92d0fd228246419bb91756c62ab0a79a",
      "2d35ac41ceab46ae9768d60baa3d10a9",
      "4fd1778d3d194930a55e5e777a88ea26",
      "596acaa136c5490fb39e808855700419",
      "756ee8719842497aa348413894c69c77",
      "9d422da9a8e443b286109405c2732aaf",
      "78c14801161e4ee5983059cf8c19098b",
      "74c732a73bc24d0298d5656b35e66a41",
      "a6a6569589ef40d29ae441862b411963",
      "63832140e93e41e9b5d6c7c085a9b6e4",
      "5821825528f94fe5a2c6651e5f5875f2",
      "e66912def8c24ecdba31a2f36ee63171",
      "a830c075758542389eb3719017d5b143",
      "5c86cb3eb2a147d9b8e448a7588f8321",
      "dc4d73b807964a1c9eddb1db7a193778",
      "eb6262e789fd48dfa97e5721ad387989",
      "8ff8e189766942cdbb82bdd7d30659f2",
      "025d08d849bf42669e1fa5a9d904fbfb",
      "dfa6c703220144fa948e5076dd0c09c9",
      "85be758898ae4301bb4686a9bba98bfc",
      "2768242453824ba5ba20803f883dbcee",
      "5024256a349d462283a6b57233e23341",
      "3a92fb5b46c141a692e0013f549b267a",
      "d4d615f73b3a404d821cf1b1b9d096bf",
      "a71ea890ec6d475cb72fb21bcac87901",
      "d337cd9c5a3c457f925b9b77d37aafe6",
      "59675a1fa78d4076a970618d438ed1e0",
      "21d0637e2e994aa596705d8a76def37f",
      "b0861eb05d014f9fa8b9d2374fd43cd8",
      "5e08eadb18734a9f8055425ff33d8aa3",
      "e719ca03336944b2af6f4d8950935c51",
      "01ff51ecf8ac4018809878e40cb21a9d",
      "814e06180102487d9ba5a338c1cf6392",
      "f2574edeed3742bf9365f786f5f25c1e",
      "a2e1223f067441e4bf86fba9a03d8327",
      "8b1edee5a0cb4efc88fd377dbc4a85c4",
      "022b28be2fda4503888f2157b9eb8cc2",
      "43c6cf8da73845f9846c1c4981f92653",
      "d1415ab0f4e94593b73dab5884b820a2"
     ]
    },
    "executionInfo": {
     "elapsed": 128870,
     "status": "ok",
     "timestamp": 1700455340162,
     "user": {
      "displayName": "윤재현 (Acahti)",
      "userId": "14788659600835622523"
     },
     "user_tz": -540
    },
    "id": "S-tSP3_YBUbS",
    "outputId": "2db0b300-f722-4e90-f712-589cea7d00eb"
   },
   "outputs": [],
   "source": [
    "from transformers import T5ForConditionalGeneration,AutoTokenizer\n",
    "path = \"lcw99/t5-large-korean-text-summary\"\n",
    "model = T5ForConditionalGeneration.from_pretrained(path)\n",
    "tokenizer = AutoTokenizer.from_pretrained(path)"
   ]
  },
  {
   "cell_type": "code",
   "execution_count": null,
   "metadata": {
    "colab": {
     "base_uri": "https://localhost:8080/",
     "height": 35
    },
    "executionInfo": {
     "elapsed": 29368,
     "status": "ok",
     "timestamp": 1700455369480,
     "user": {
      "displayName": "윤재현 (Acahti)",
      "userId": "14788659600835622523"
     },
     "user_tz": -540
    },
    "id": "F8Pz978xBl8I",
    "outputId": "bcac96fe-34ab-464c-b8b8-4829659bc03d"
   },
   "outputs": [],
   "source": [
    "#여기에 원하는 문장을 입력하시길 바랍니다.\n",
    "text= \"\"\" (서울=뉴스1) 이비슬 기자 = 윤상현 국민의힘 의원은 18일 이철규 사무총장의 '승선불가' 발언과 관련해 \"무엇이 위기인지 본질을 잘 모르고 있다는 게 진짜 위기\"라고 말했다.\n",
    "\n",
    "윤 의원은 이날 SBS 라디오 '김태현의 정치쇼' 인터뷰에서 \"국민의힘이 더불어민주당을 빼놓고 제3정당이 나오면 지지율이 비슷하다. 이것이 위기 아니냐. 그런데 이런 것에 관해서 (이야기)하면 이것을 이상하게 받아들이는데, 그래서 위기가 위기라는 것\"이라고 말했다.\n",
    "\n",
    "윤 의원은 \"수도권 싸움은 영남권 싸움과 다르다. 수도권 거의 모든 지역이 1000표, 1500표 싸움 아니냐\"며 \"제3정당이 나왔을 때 국민의힘 표를 뺏어간다. 승부를 가르는 결정적인 요인이 될 수 있기 때문에 3지대에 있는 사람들도 포용하고 전략을 갖추는 것에 대해 말씀드린 것\"이라고 말했다.\n",
    "\n",
    "앞서 이 사무총장은 지난 16일 비공개 의원총회에서 \"배를 침몰시키려는 승객은 함께하지 못한다\"고 발언했다. 이를 두고 내년 총선 수도권 위기론과 당 지도부 책임을 언급하며 공개적으로 비판 입장을 밝혀온 윤 의원이 발언의 표적이었다는 관측이 나왔다.\n",
    "\n",
    "윤 의원은 이 사무총장의 발언이 자신을 겨냥했다는 관측과 관련해 \"당에 대한 충정으로 말씀드린 것\"이라며 \"당이라는 배를 좌초시키려는 의도는 없었다\"고 말했다.\n",
    "\n",
    "윤 의원은 \"당이라는 배가 좌초되거나 어려워지면 당 지도부 의원이 아니라 수도권에 있는 의원이 가장 먼저 죽는다\"며 \"누구를 기분 나쁘게 할 마음으로 (이야기)한 것이 아니라 당에 대한 진정성으로 이야기한 것\"이라고 했다.\"\"\"\n",
    "\n",
    "prefix = \"summarize: \" + text\n",
    "\n",
    "token = tokenizer(prefix ,return_tensors=\"pt\")\n",
    "output = model.generate(input_ids=token[\"input_ids\"],attention_mask = token[\"attention_mask\"], max_length=500)\n",
    "text = tokenizer.decode(output[0])[5:-4]\n",
    "text"
   ]
  }
 ],
 "metadata": {
  "colab": {
   "authorship_tag": "ABX9TyOU5tjVJkFgi5eJ5gAVv3La",
   "provenance": []
  },
  "kernelspec": {
   "display_name": "Python 3",
   "name": "python3"
  },
  "language_info": {
   "name": "python"
  }
 },
 "nbformat": 4,
 "nbformat_minor": 0
}
